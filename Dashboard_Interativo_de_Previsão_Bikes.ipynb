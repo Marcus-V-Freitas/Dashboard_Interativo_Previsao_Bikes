{
  "nbformat": 4,
  "nbformat_minor": 0,
  "metadata": {
    "colab": {
      "name": "Dashboard Interativo de Previsão Bikes.ipynb",
      "provenance": [],
      "collapsed_sections": [
        "dqQZktXo-roR",
        "0T3c32Jp_-UX",
        "5XVVWcNCAAxa",
        "CJKhKrfYA3Bz"
      ]
    },
    "kernelspec": {
      "name": "python3",
      "display_name": "Python 3"
    },
    "language_info": {
      "name": "python"
    }
  },
  "cells": [
    {
      "cell_type": "markdown",
      "metadata": {
        "id": "Lkyuc6Ut-i0w"
      },
      "source": [
        "#Dashboard Interativo de Previsão Bikes"
      ]
    },
    {
      "cell_type": "markdown",
      "metadata": {
        "id": "svkqhPqH-ogA"
      },
      "source": [
        "##Importação e Instalação de Libs"
      ]
    },
    {
      "cell_type": "code",
      "metadata": {
        "colab": {
          "base_uri": "https://localhost:8080/"
        },
        "id": "n3n-WCbR9BTb",
        "outputId": "d5f3c764-8bdc-4f95-e832-f69893c157ae"
      },
      "source": [
        "!pip install evidently\n",
        "!pip install pyforest"
      ],
      "execution_count": 1,
      "outputs": [
        {
          "output_type": "stream",
          "text": [
            "Collecting evidently\n",
            "  Downloading evidently-0.1.22.dev0-py3-none-any.whl (15.2 MB)\n",
            "\u001b[K     |████████████████████████████████| 15.2 MB 125 kB/s \n",
            "\u001b[?25hRequirement already satisfied: requests in /usr/local/lib/python3.7/dist-packages (from evidently) (2.23.0)\n",
            "Requirement already satisfied: pyyaml in /usr/local/lib/python3.7/dist-packages (from evidently) (3.13)\n",
            "Requirement already satisfied: numpy in /usr/local/lib/python3.7/dist-packages (from evidently) (1.19.5)\n",
            "Requirement already satisfied: pandas in /usr/local/lib/python3.7/dist-packages (from evidently) (1.1.5)\n",
            "Requirement already satisfied: scikit-learn>=0.22.1 in /usr/local/lib/python3.7/dist-packages (from evidently) (0.22.2.post1)\n",
            "Requirement already satisfied: plotly in /usr/local/lib/python3.7/dist-packages (from evidently) (4.4.1)\n",
            "Requirement already satisfied: statsmodels in /usr/local/lib/python3.7/dist-packages (from evidently) (0.10.2)\n",
            "Requirement already satisfied: scipy in /usr/local/lib/python3.7/dist-packages (from evidently) (1.4.1)\n",
            "Collecting dataclasses\n",
            "  Downloading dataclasses-0.6-py3-none-any.whl (14 kB)\n",
            "Requirement already satisfied: joblib>=0.11 in /usr/local/lib/python3.7/dist-packages (from scikit-learn>=0.22.1->evidently) (1.0.1)\n",
            "Requirement already satisfied: python-dateutil>=2.7.3 in /usr/local/lib/python3.7/dist-packages (from pandas->evidently) (2.8.1)\n",
            "Requirement already satisfied: pytz>=2017.2 in /usr/local/lib/python3.7/dist-packages (from pandas->evidently) (2018.9)\n",
            "Requirement already satisfied: six>=1.5 in /usr/local/lib/python3.7/dist-packages (from python-dateutil>=2.7.3->pandas->evidently) (1.15.0)\n",
            "Requirement already satisfied: retrying>=1.3.3 in /usr/local/lib/python3.7/dist-packages (from plotly->evidently) (1.3.3)\n",
            "Requirement already satisfied: certifi>=2017.4.17 in /usr/local/lib/python3.7/dist-packages (from requests->evidently) (2021.5.30)\n",
            "Requirement already satisfied: urllib3!=1.25.0,!=1.25.1,<1.26,>=1.21.1 in /usr/local/lib/python3.7/dist-packages (from requests->evidently) (1.24.3)\n",
            "Requirement already satisfied: chardet<4,>=3.0.2 in /usr/local/lib/python3.7/dist-packages (from requests->evidently) (3.0.4)\n",
            "Requirement already satisfied: idna<3,>=2.5 in /usr/local/lib/python3.7/dist-packages (from requests->evidently) (2.10)\n",
            "Requirement already satisfied: patsy>=0.4.0 in /usr/local/lib/python3.7/dist-packages (from statsmodels->evidently) (0.5.1)\n",
            "Installing collected packages: dataclasses, evidently\n",
            "Successfully installed dataclasses-0.6 evidently-0.1.22.dev0\n",
            "Collecting pyforest\n",
            "  Downloading pyforest-1.1.0.tar.gz (15 kB)\n",
            "Building wheels for collected packages: pyforest\n",
            "  Building wheel for pyforest (setup.py) ... \u001b[?25l\u001b[?25hdone\n",
            "  Created wheel for pyforest: filename=pyforest-1.1.0-py2.py3-none-any.whl size=14606 sha256=7f8c4dd61179c43b39c5c639e57717d6aec6d802715736a6a0af812ae50bef47\n",
            "  Stored in directory: /root/.cache/pip/wheels/61/1c/da/48e6c884142d485475d852d69d20a096aba5beceb338822893\n",
            "Successfully built pyforest\n",
            "Installing collected packages: pyforest\n",
            "Successfully installed pyforest-1.1.0\n"
          ],
          "name": "stdout"
        }
      ]
    },
    {
      "cell_type": "code",
      "metadata": {
        "id": "oRxbQzXG9CnM"
      },
      "source": [
        "from pyforest import *\n",
        "from sklearn.ensemble import RandomForestRegressor\n",
        "from evidently.dashboard import Dashboard\n",
        "from evidently.tabs import RegressionPerformanceTab\n",
        "from evidently.model_profile import Profile\n",
        "from evidently.profile_sections import RegressionPerformanceProfileSection"
      ],
      "execution_count": 27,
      "outputs": []
    },
    {
      "cell_type": "markdown",
      "metadata": {
        "id": "dqQZktXo-roR"
      },
      "source": [
        "##Importar Base de dados"
      ]
    },
    {
      "cell_type": "code",
      "metadata": {
        "colab": {
          "base_uri": "https://localhost:8080/",
          "height": 203
        },
        "id": "DsAJidRu9mtu",
        "outputId": "2ac4f401-3464-4137-d7e7-728a1d3724b6"
      },
      "source": [
        "data= pd.read_csv(\"/content/drive/MyDrive/Dataset_Excel_CSV/bike-sharing-daily.csv\",header = 0, sep = ',', parse_dates=['dteday'])\n",
        "data.head()"
      ],
      "execution_count": 3,
      "outputs": [
        {
          "output_type": "display_data",
          "data": {
            "application/javascript": [
              "\n",
              "        if (window._pyforest_update_imports_cell) { window._pyforest_update_imports_cell('import pandas as pd'); }\n",
              "    "
            ],
            "text/plain": [
              "<IPython.core.display.Javascript object>"
            ]
          },
          "metadata": {
            "tags": []
          }
        },
        {
          "output_type": "execute_result",
          "data": {
            "text/html": [
              "<div>\n",
              "<style scoped>\n",
              "    .dataframe tbody tr th:only-of-type {\n",
              "        vertical-align: middle;\n",
              "    }\n",
              "\n",
              "    .dataframe tbody tr th {\n",
              "        vertical-align: top;\n",
              "    }\n",
              "\n",
              "    .dataframe thead th {\n",
              "        text-align: right;\n",
              "    }\n",
              "</style>\n",
              "<table border=\"1\" class=\"dataframe\">\n",
              "  <thead>\n",
              "    <tr style=\"text-align: right;\">\n",
              "      <th></th>\n",
              "      <th>instant</th>\n",
              "      <th>dteday</th>\n",
              "      <th>season</th>\n",
              "      <th>yr</th>\n",
              "      <th>mnth</th>\n",
              "      <th>holiday</th>\n",
              "      <th>weekday</th>\n",
              "      <th>workingday</th>\n",
              "      <th>weathersit</th>\n",
              "      <th>temp</th>\n",
              "      <th>hum</th>\n",
              "      <th>windspeed</th>\n",
              "      <th>casual</th>\n",
              "      <th>registered</th>\n",
              "      <th>cnt</th>\n",
              "    </tr>\n",
              "  </thead>\n",
              "  <tbody>\n",
              "    <tr>\n",
              "      <th>0</th>\n",
              "      <td>1</td>\n",
              "      <td>2011-01-01</td>\n",
              "      <td>1</td>\n",
              "      <td>0</td>\n",
              "      <td>1</td>\n",
              "      <td>0</td>\n",
              "      <td>6</td>\n",
              "      <td>0</td>\n",
              "      <td>2</td>\n",
              "      <td>0.344167</td>\n",
              "      <td>0.805833</td>\n",
              "      <td>0.160446</td>\n",
              "      <td>331</td>\n",
              "      <td>654</td>\n",
              "      <td>985</td>\n",
              "    </tr>\n",
              "    <tr>\n",
              "      <th>1</th>\n",
              "      <td>2</td>\n",
              "      <td>2011-01-02</td>\n",
              "      <td>1</td>\n",
              "      <td>0</td>\n",
              "      <td>1</td>\n",
              "      <td>0</td>\n",
              "      <td>0</td>\n",
              "      <td>0</td>\n",
              "      <td>2</td>\n",
              "      <td>0.363478</td>\n",
              "      <td>0.696087</td>\n",
              "      <td>0.248539</td>\n",
              "      <td>131</td>\n",
              "      <td>670</td>\n",
              "      <td>801</td>\n",
              "    </tr>\n",
              "    <tr>\n",
              "      <th>2</th>\n",
              "      <td>3</td>\n",
              "      <td>2011-01-03</td>\n",
              "      <td>1</td>\n",
              "      <td>0</td>\n",
              "      <td>1</td>\n",
              "      <td>0</td>\n",
              "      <td>1</td>\n",
              "      <td>1</td>\n",
              "      <td>1</td>\n",
              "      <td>0.196364</td>\n",
              "      <td>0.437273</td>\n",
              "      <td>0.248309</td>\n",
              "      <td>120</td>\n",
              "      <td>1229</td>\n",
              "      <td>1349</td>\n",
              "    </tr>\n",
              "    <tr>\n",
              "      <th>3</th>\n",
              "      <td>4</td>\n",
              "      <td>2011-01-04</td>\n",
              "      <td>1</td>\n",
              "      <td>0</td>\n",
              "      <td>1</td>\n",
              "      <td>0</td>\n",
              "      <td>2</td>\n",
              "      <td>1</td>\n",
              "      <td>1</td>\n",
              "      <td>0.200000</td>\n",
              "      <td>0.590435</td>\n",
              "      <td>0.160296</td>\n",
              "      <td>108</td>\n",
              "      <td>1454</td>\n",
              "      <td>1562</td>\n",
              "    </tr>\n",
              "    <tr>\n",
              "      <th>4</th>\n",
              "      <td>5</td>\n",
              "      <td>2011-01-05</td>\n",
              "      <td>1</td>\n",
              "      <td>0</td>\n",
              "      <td>1</td>\n",
              "      <td>0</td>\n",
              "      <td>3</td>\n",
              "      <td>1</td>\n",
              "      <td>1</td>\n",
              "      <td>0.226957</td>\n",
              "      <td>0.436957</td>\n",
              "      <td>0.186900</td>\n",
              "      <td>82</td>\n",
              "      <td>1518</td>\n",
              "      <td>1600</td>\n",
              "    </tr>\n",
              "  </tbody>\n",
              "</table>\n",
              "</div>"
            ],
            "text/plain": [
              "   instant     dteday  season  yr  ...  windspeed  casual  registered   cnt\n",
              "0        1 2011-01-01       1   0  ...   0.160446     331         654   985\n",
              "1        2 2011-01-02       1   0  ...   0.248539     131         670   801\n",
              "2        3 2011-01-03       1   0  ...   0.248309     120        1229  1349\n",
              "3        4 2011-01-04       1   0  ...   0.160296     108        1454  1562\n",
              "4        5 2011-01-05       1   0  ...   0.186900      82        1518  1600\n",
              "\n",
              "[5 rows x 15 columns]"
            ]
          },
          "metadata": {
            "tags": []
          },
          "execution_count": 3
        }
      ]
    },
    {
      "cell_type": "markdown",
      "metadata": {
        "id": "0T3c32Jp_-UX"
      },
      "source": [
        "##Separar Variáveis Categóricas"
      ]
    },
    {
      "cell_type": "code",
      "metadata": {
        "id": "ZKzy1q58A-Vb"
      },
      "source": [
        "categorical_features = ['season', 'holiday', 'weekday', 'workingday', 'weathersit']"
      ],
      "execution_count": 5,
      "outputs": []
    },
    {
      "cell_type": "code",
      "metadata": {
        "id": "frnnufrKFFJ8"
      },
      "source": [
        "data_features=['dteday']"
      ],
      "execution_count": 31,
      "outputs": []
    },
    {
      "cell_type": "markdown",
      "metadata": {
        "id": "5XVVWcNCAAxa"
      },
      "source": [
        "##Separar Variáveis Numéricas"
      ]
    },
    {
      "cell_type": "code",
      "metadata": {
        "id": "RI0Ar7q5ADn6"
      },
      "source": [
        "numerical_features = ['mnth', 'temp', 'hum', 'windspeed','cnt']"
      ],
      "execution_count": 6,
      "outputs": []
    },
    {
      "cell_type": "markdown",
      "metadata": {
        "id": "eodn0tvkAtMg"
      },
      "source": [
        "Verificar Correlações"
      ]
    },
    {
      "cell_type": "code",
      "metadata": {
        "colab": {
          "base_uri": "https://localhost:8080/",
          "height": 0
        },
        "id": "5aYVGGPDAHI0",
        "outputId": "6e11647c-fdd8-455e-c28e-a7c3a03772c9"
      },
      "source": [
        "sns.heatmap(data[numerical_features].corr(),annot=True);"
      ],
      "execution_count": 7,
      "outputs": [
        {
          "output_type": "display_data",
          "data": {
            "application/javascript": [
              "\n",
              "        if (window._pyforest_update_imports_cell) { window._pyforest_update_imports_cell('import seaborn as sns\\nimport pandas as pd'); }\n",
              "    "
            ],
            "text/plain": [
              "<IPython.core.display.Javascript object>"
            ]
          },
          "metadata": {
            "tags": []
          }
        },
        {
          "output_type": "display_data",
          "data": {
            "image/png": "[encoded data removed]",
            "text/plain": [
              "<Figure size 432x288 with 2 Axes>"
            ]
          },
          "metadata": {
            "tags": [],
            "needs_background": "light"
          }
        }
      ]
    },
    {
      "cell_type": "markdown",
      "metadata": {
        "id": "CJKhKrfYA3Bz"
      },
      "source": [
        "##Separar em variáveis preditoras e classe"
      ]
    },
    {
      "cell_type": "code",
      "metadata": {
        "id": "NHAllkKKA6b0"
      },
      "source": [
        "data_filtrado = data[categorical_features + numerical_features]"
      ],
      "execution_count": 8,
      "outputs": []
    },
    {
      "cell_type": "code",
      "metadata": {
        "id": "JskIESdNE6J_"
      },
      "source": [
        "data_filtrado_com_data=data[categorical_features + data_features +numerical_features]"
      ],
      "execution_count": 33,
      "outputs": []
    },
    {
      "cell_type": "code",
      "metadata": {
        "id": "slonSYSiBrQY"
      },
      "source": [
        "X=data_filtrado.iloc[:,0:-1].values\n",
        "y=data_filtrado.iloc[:,-1:].values"
      ],
      "execution_count": 34,
      "outputs": []
    },
    {
      "cell_type": "code",
      "metadata": {
        "id": "IoYottxpIcZN"
      },
      "source": [
        "df_X = data_filtrado_com_data.iloc[:,0:-1]\n",
        "df_y = data_filtrado_com_data.iloc[:,-1:]"
      ],
      "execution_count": 35,
      "outputs": []
    },
    {
      "cell_type": "markdown",
      "metadata": {
        "id": "yeXexLyc_0xK"
      },
      "source": [
        "##Separar em bases de treinamento e teste"
      ]
    },
    {
      "cell_type": "code",
      "metadata": {
        "colab": {
          "base_uri": "https://localhost:8080/",
          "height": 17
        },
        "id": "DlLazJFO_7_M",
        "outputId": "cd7307e5-31b4-41cb-bb17-d525be184062"
      },
      "source": [
        "X_train, X_test, y_train,y_test = train_test_split(X,y,test_size=0.3)"
      ],
      "execution_count": 36,
      "outputs": [
        {
          "output_type": "display_data",
          "data": {
            "application/javascript": [
              "\n",
              "        if (window._pyforest_update_imports_cell) { window._pyforest_update_imports_cell('from statsmodels.tsa.arima_model import ARIMA\\nimport sklearn\\nfrom sklearn.model_selection import train_test_split\\nimport pandas as pd\\nfrom sklearn.ensemble import RandomForestRegressor\\nfrom sklearn.model_selection import cross_val_score\\nimport seaborn as sns\\nimport bokeh\\nimport cv2\\nimport altair as alt\\nfrom sklearn.feature_extraction.text import CountVectorizer'); }\n",
              "    "
            ],
            "text/plain": [
              "<IPython.core.display.Javascript object>"
            ]
          },
          "metadata": {
            "tags": []
          }
        }
      ]
    },
    {
      "cell_type": "code",
      "metadata": {
        "colab": {
          "base_uri": "https://localhost:8080/",
          "height": 17
        },
        "id": "w1F3RjRBIhas",
        "outputId": "7e907c63-36d6-417b-be72-080ae52c6cbe"
      },
      "source": [
        "df_X_train, df_X_test, df_y_train,df_y_test = train_test_split(df_X,df_y,test_size=0.3)"
      ],
      "execution_count": 37,
      "outputs": [
        {
          "output_type": "display_data",
          "data": {
            "application/javascript": [
              "\n",
              "        if (window._pyforest_update_imports_cell) { window._pyforest_update_imports_cell('from statsmodels.tsa.arima_model import ARIMA\\nimport sklearn\\nfrom sklearn.model_selection import train_test_split\\nimport pandas as pd\\nfrom sklearn.ensemble import RandomForestRegressor\\nfrom sklearn.model_selection import cross_val_score\\nimport seaborn as sns\\nimport bokeh\\nimport cv2\\nimport altair as alt\\nfrom sklearn.feature_extraction.text import CountVectorizer'); }\n",
              "    "
            ],
            "text/plain": [
              "<IPython.core.display.Javascript object>"
            ]
          },
          "metadata": {
            "tags": []
          }
        }
      ]
    },
    {
      "cell_type": "code",
      "metadata": {
        "colab": {
          "base_uri": "https://localhost:8080/"
        },
        "id": "meoeoT0sB2YR",
        "outputId": "00d35a8a-1c86-45ac-9464-b94abfa6b784"
      },
      "source": [
        "X_train.shape, X_test.shape, y_train.shape, y_test.shape"
      ],
      "execution_count": 38,
      "outputs": [
        {
          "output_type": "execute_result",
          "data": {
            "text/plain": [
              "((511, 9), (220, 9), (511, 1), (220, 1))"
            ]
          },
          "metadata": {
            "tags": []
          },
          "execution_count": 38
        }
      ]
    },
    {
      "cell_type": "markdown",
      "metadata": {
        "id": "69FRLhU-ClZF"
      },
      "source": [
        "##Criar e Treinar Modelo"
      ]
    },
    {
      "cell_type": "code",
      "metadata": {
        "colab": {
          "base_uri": "https://localhost:8080/",
          "height": 17
        },
        "id": "jH06SsFUB7rY",
        "outputId": "95f66cd8-6e51-47b3-cadf-70d3b9984ef7"
      },
      "source": [
        "model = RandomForestRegressor(random_state = 0)"
      ],
      "execution_count": 39,
      "outputs": [
        {
          "output_type": "display_data",
          "data": {
            "application/javascript": [
              "\n",
              "        if (window._pyforest_update_imports_cell) { window._pyforest_update_imports_cell('from statsmodels.tsa.arima_model import ARIMA\\nimport sklearn\\nfrom sklearn.model_selection import train_test_split\\nimport pandas as pd\\nfrom sklearn.ensemble import RandomForestRegressor\\nfrom sklearn.model_selection import cross_val_score\\nimport seaborn as sns\\nimport bokeh\\nimport cv2\\nimport altair as alt\\nfrom sklearn.feature_extraction.text import CountVectorizer'); }\n",
              "    "
            ],
            "text/plain": [
              "<IPython.core.display.Javascript object>"
            ]
          },
          "metadata": {
            "tags": []
          }
        }
      ]
    },
    {
      "cell_type": "code",
      "metadata": {
        "colab": {
          "base_uri": "https://localhost:8080/"
        },
        "id": "_I3-LzFfB810",
        "outputId": "b7e5d31b-0d43-4850-b5bd-de1c43642398"
      },
      "source": [
        "model.fit(X_train, y_train);"
      ],
      "execution_count": 40,
      "outputs": [
        {
          "output_type": "stream",
          "text": [
            "/usr/local/lib/python3.7/dist-packages/pyforest/__init__.py:1: DataConversionWarning:\n",
            "\n",
            "A column-vector y was passed when a 1d array was expected. Please change the shape of y to (n_samples,), for example using ravel().\n",
            "\n"
          ],
          "name": "stderr"
        }
      ]
    },
    {
      "cell_type": "code",
      "metadata": {
        "colab": {
          "base_uri": "https://localhost:8080/",
          "height": 17
        },
        "id": "JLuSEcbvCFjv",
        "outputId": "50c28bcf-6675-4fd7-c907-cffb3f40207e"
      },
      "source": [
        "df_treinamento=pd.concat([df_X_train,df_y_train],axis=1)\n",
        "df_treinamento['prediction'] = model.predict(X_train)"
      ],
      "execution_count": 41,
      "outputs": [
        {
          "output_type": "display_data",
          "data": {
            "application/javascript": [
              "\n",
              "        if (window._pyforest_update_imports_cell) { window._pyforest_update_imports_cell('from statsmodels.tsa.arima_model import ARIMA\\nimport sklearn\\nfrom sklearn.model_selection import train_test_split\\nimport pandas as pd\\nfrom sklearn.ensemble import RandomForestRegressor\\nfrom sklearn.model_selection import cross_val_score\\nimport seaborn as sns\\nimport bokeh\\nimport cv2\\nimport altair as alt\\nfrom sklearn.feature_extraction.text import CountVectorizer'); }\n",
              "    "
            ],
            "text/plain": [
              "<IPython.core.display.Javascript object>"
            ]
          },
          "metadata": {
            "tags": []
          }
        }
      ]
    },
    {
      "cell_type": "code",
      "metadata": {
        "colab": {
          "base_uri": "https://localhost:8080/",
          "height": 17
        },
        "id": "zW3rA_KHJLT4",
        "outputId": "cb1fa6bb-2ea8-4f2e-9486-452856508b50"
      },
      "source": [
        "df_test = pd.concat([df_X_test,df_y_test],axis=1)\n",
        "df_test['prediction'] = model.predict(X_test)"
      ],
      "execution_count": 42,
      "outputs": [
        {
          "output_type": "display_data",
          "data": {
            "application/javascript": [
              "\n",
              "        if (window._pyforest_update_imports_cell) { window._pyforest_update_imports_cell('from statsmodels.tsa.arima_model import ARIMA\\nimport sklearn\\nfrom sklearn.model_selection import train_test_split\\nimport pandas as pd\\nfrom sklearn.ensemble import RandomForestRegressor\\nfrom sklearn.model_selection import cross_val_score\\nimport seaborn as sns\\nimport bokeh\\nimport cv2\\nimport altair as alt\\nfrom sklearn.feature_extraction.text import CountVectorizer'); }\n",
              "    "
            ],
            "text/plain": [
              "<IPython.core.display.Javascript object>"
            ]
          },
          "metadata": {
            "tags": []
          }
        }
      ]
    },
    {
      "cell_type": "code",
      "metadata": {
        "id": "lxUZYvIzCdJg"
      },
      "source": [
        "mapeamento_colunas = {}\n",
        "mapeamento_colunas['target'] = 'cnt'\n",
        "mapeamento_colunas['prediction'] = 'prediction'\n",
        "mapeamento_colunas['datetime'] = 'dteday'\n",
        "mapeamento_colunas['numerical_features'] = numerical_features\n",
        "mapeamento_colunas['categorical_features'] = categorical_features\n",
        "dashboard = Dashboard(tabs=[RegressionPerformanceTab])\n",
        "dashboard.calculate(df_treinamento,df_test, column_mapping=mapeamento_colunas)\n",
        "dashboard.save('Demanda Bikes.html')"
      ],
      "execution_count": 46,
      "outputs": []
    }
  ]
}